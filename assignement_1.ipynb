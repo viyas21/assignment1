{
  "nbformat": 4,
  "nbformat_minor": 0,
  "metadata": {
    "colab": {
      "provenance": []
    },
    "kernelspec": {
      "name": "python3",
      "display_name": "Python 3"
    },
    "language_info": {
      "name": "python"
    }
  },
  "cells": [
    {
      "cell_type": "markdown",
      "source": [
        "# **Write a Python program to get the Fibonacci series between 0 to 50**"
      ],
      "metadata": {
        "id": "SV8E7BWYm2Bv"
      }
    },
    {
      "cell_type": "code",
      "execution_count": 1,
      "metadata": {
        "colab": {
          "base_uri": "https://localhost:8080/"
        },
        "id": "SAGaQiAglYZs",
        "outputId": "d2c39f46-e4b8-4e50-dad6-c3b10ff4d03a"
      },
      "outputs": [
        {
          "output_type": "stream",
          "name": "stdout",
          "text": [
            "0\n",
            "1\n",
            "1\n",
            "2\n",
            "3\n",
            "5\n",
            "8\n",
            "13\n",
            "21\n",
            "34\n"
          ]
        }
      ],
      "source": [
        "def fibonacci_series(n):\n",
        "    series = []\n",
        "    a, b = 0, 1\n",
        "\n",
        "    while a <= n:\n",
        "        series.append(a)\n",
        "        a, b = b, a + b\n",
        "\n",
        "    return series\n",
        "\n",
        "# Get Fibonacci series between 0 and 50\n",
        "fibonacci_nums = fibonacci_series(50)\n",
        "\n",
        "# Print the series\n",
        "for num in fibonacci_nums:\n",
        "    print(num)\n"
      ]
    },
    {
      "cell_type": "markdown",
      "source": [
        "## Write a Python program that accepts a word from the user and reverse it.**bold text**"
      ],
      "metadata": {
        "id": "vCkIAsmhnRCt"
      }
    },
    {
      "cell_type": "code",
      "source": [
        "def reverse_word(word):\n",
        "    reversed_word = ''\n",
        "    for char in word:\n",
        "        reversed_word = char + reversed_word\n",
        "    return reversed_word\n",
        "\n",
        "# Get input from the user\n",
        "user_input = input(\"Enter a word: \")\n",
        "\n",
        "# Reverse the word\n",
        "reversed_word = reverse_word(user_input)\n",
        "\n",
        "# Print the reversed word\n",
        "print(\"Reversed word:\", reversed_word)\n"
      ],
      "metadata": {
        "colab": {
          "base_uri": "https://localhost:8080/"
        },
        "id": "0mLa2NQ8leZv",
        "outputId": "2d2ff1a4-0d76-469c-af40-16fcfa4c1a2f"
      },
      "execution_count": 2,
      "outputs": [
        {
          "output_type": "stream",
          "name": "stdout",
          "text": [
            "Enter a word: Edyoda\n",
            "Reversed word: adoydE\n"
          ]
        }
      ]
    },
    {
      "cell_type": "markdown",
      "source": [
        "# **Write a Python program to count the number of even and odd numbers from a series of numbers.**"
      ],
      "metadata": {
        "id": "pOAi6KE-m_dY"
      }
    },
    {
      "cell_type": "code",
      "source": [
        "def count_even_odd(numbers):\n",
        "    even_count = 0\n",
        "    odd_count = 0\n",
        "\n",
        "    for num in numbers:\n",
        "        if num % 2 == 0:\n",
        "            even_count += 1\n",
        "        else:\n",
        "            odd_count += 1\n",
        "\n",
        "    return even_count, odd_count\n",
        "\n",
        "# Get a series of numbers from the user\n",
        "numbers_str = input(\"Enter a series of numbers (separated by spaces): \")\n",
        "numbers_list = numbers_str.split()\n",
        "\n",
        "# Convert the numbers from strings to integers\n",
        "numbers = [int(num) for num in numbers_list]\n",
        "\n",
        "# Count the number of even and odd numbers\n",
        "even_count, odd_count = count_even_odd(numbers)\n",
        "\n",
        "# Print the results\n",
        "print(\"Number of even numbers:\", even_count)\n",
        "print(\"Number of odd numbers:\", odd_count)\n"
      ],
      "metadata": {
        "colab": {
          "base_uri": "https://localhost:8080/"
        },
        "id": "AQQLayoXl0EA",
        "outputId": "84ca6888-ee39-4e4d-e579-4ae5ad54bf17"
      },
      "execution_count": 5,
      "outputs": [
        {
          "output_type": "stream",
          "name": "stdout",
          "text": [
            "Enter a series of numbers (separated by spaces): 1 2 3 4 5 6 7 8 9\n",
            "Number of even numbers: 4\n",
            "Number of odd numbers: 5\n"
          ]
        }
      ]
    },
    {
      "cell_type": "code",
      "source": [],
      "metadata": {
        "id": "sTiq2sV_mIf7"
      },
      "execution_count": null,
      "outputs": []
    }
  ]
}